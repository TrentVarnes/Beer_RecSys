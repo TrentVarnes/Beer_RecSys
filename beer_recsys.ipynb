{
 "cells": [
  {
   "attachments": {},
   "cell_type": "markdown",
   "metadata": {},
   "source": [
    "Sources: \n",
    "\n",
    "https://www.kaggle.com/code/gspmoreira/recommender-systems-in-python-101\n",
    "https://www.jillcates.com/pydata-workshop/html/tutorial.html\n",
    "https://www.ahoulette.com/2019/03/11/beer-advocate-reviews/\n",
    "https://notebook.community/mwee/BeerRecommender/Recommender\n"
   ]
  },
  {
   "cell_type": "code",
   "execution_count": 2,
   "metadata": {},
   "outputs": [],
   "source": [
    "import scipy\n",
    "import math\n",
    "import random\n",
    "import sklearn\n",
    "import numpy as np\n",
    "import pandas as pd\n",
    "import seaborn as sns\n",
    "import matplotlib.pyplot as plt\n",
    "%matplotlib inline\n",
    "pd.options.display.float_format = '{:.2f}'.format\n",
    "\n",
    "from scipy.sparse import csr_matrix\n",
    "from sklearn.model_selection import train_test_split\n",
    "from sklearn.feature_extraction.text import TfidfVectorizer\n",
    "from sklearn.metrics.pairwise import cosine_similarity\n",
    "from scipy.sparse.linalg import svds\n",
    "from sklearn.preprocessing import MinMaxScaler\n",
    "import matplotlib.pyplot as plt"
   ]
  },
  {
   "cell_type": "code",
   "execution_count": 3,
   "metadata": {},
   "outputs": [
    {
     "data": {
      "text/html": [
       "<div>\n",
       "<style scoped>\n",
       "    .dataframe tbody tr th:only-of-type {\n",
       "        vertical-align: middle;\n",
       "    }\n",
       "\n",
       "    .dataframe tbody tr th {\n",
       "        vertical-align: top;\n",
       "    }\n",
       "\n",
       "    .dataframe thead th {\n",
       "        text-align: right;\n",
       "    }\n",
       "</style>\n",
       "<table border=\"1\" class=\"dataframe\">\n",
       "  <thead>\n",
       "    <tr style=\"text-align: right;\">\n",
       "      <th></th>\n",
       "      <th>0</th>\n",
       "      <th>1</th>\n",
       "      <th>2</th>\n",
       "      <th>3</th>\n",
       "      <th>4</th>\n",
       "    </tr>\n",
       "  </thead>\n",
       "  <tbody>\n",
       "    <tr>\n",
       "      <th>index</th>\n",
       "      <td>0</td>\n",
       "      <td>1</td>\n",
       "      <td>2</td>\n",
       "      <td>3</td>\n",
       "      <td>4</td>\n",
       "    </tr>\n",
       "    <tr>\n",
       "      <th>brewery_id</th>\n",
       "      <td>10325</td>\n",
       "      <td>10325</td>\n",
       "      <td>10325</td>\n",
       "      <td>10325</td>\n",
       "      <td>1075</td>\n",
       "    </tr>\n",
       "    <tr>\n",
       "      <th>brewery_name</th>\n",
       "      <td>Vecchio Birraio</td>\n",
       "      <td>Vecchio Birraio</td>\n",
       "      <td>Vecchio Birraio</td>\n",
       "      <td>Vecchio Birraio</td>\n",
       "      <td>Caldera Brewing Company</td>\n",
       "    </tr>\n",
       "    <tr>\n",
       "      <th>review_time</th>\n",
       "      <td>1234817823</td>\n",
       "      <td>1235915097</td>\n",
       "      <td>1235916604</td>\n",
       "      <td>1234725145</td>\n",
       "      <td>1293735206</td>\n",
       "    </tr>\n",
       "    <tr>\n",
       "      <th>review_overall</th>\n",
       "      <td>1.50</td>\n",
       "      <td>3.00</td>\n",
       "      <td>3.00</td>\n",
       "      <td>3.00</td>\n",
       "      <td>4.00</td>\n",
       "    </tr>\n",
       "    <tr>\n",
       "      <th>review_aroma</th>\n",
       "      <td>2.00</td>\n",
       "      <td>2.50</td>\n",
       "      <td>2.50</td>\n",
       "      <td>3.00</td>\n",
       "      <td>4.50</td>\n",
       "    </tr>\n",
       "    <tr>\n",
       "      <th>review_appearance</th>\n",
       "      <td>2.50</td>\n",
       "      <td>3.00</td>\n",
       "      <td>3.00</td>\n",
       "      <td>3.50</td>\n",
       "      <td>4.00</td>\n",
       "    </tr>\n",
       "    <tr>\n",
       "      <th>review_profilename</th>\n",
       "      <td>stcules</td>\n",
       "      <td>stcules</td>\n",
       "      <td>stcules</td>\n",
       "      <td>stcules</td>\n",
       "      <td>johnmichaelsen</td>\n",
       "    </tr>\n",
       "    <tr>\n",
       "      <th>beer_style</th>\n",
       "      <td>Hefeweizen</td>\n",
       "      <td>English Strong Ale</td>\n",
       "      <td>Foreign / Export Stout</td>\n",
       "      <td>German Pilsener</td>\n",
       "      <td>American Double / Imperial IPA</td>\n",
       "    </tr>\n",
       "    <tr>\n",
       "      <th>review_palate</th>\n",
       "      <td>1.50</td>\n",
       "      <td>3.00</td>\n",
       "      <td>3.00</td>\n",
       "      <td>2.50</td>\n",
       "      <td>4.00</td>\n",
       "    </tr>\n",
       "    <tr>\n",
       "      <th>review_taste</th>\n",
       "      <td>1.50</td>\n",
       "      <td>3.00</td>\n",
       "      <td>3.00</td>\n",
       "      <td>3.00</td>\n",
       "      <td>4.50</td>\n",
       "    </tr>\n",
       "    <tr>\n",
       "      <th>beer_name</th>\n",
       "      <td>Sausa Weizen</td>\n",
       "      <td>Red Moon</td>\n",
       "      <td>Black Horse Black Beer</td>\n",
       "      <td>Sausa Pils</td>\n",
       "      <td>Cauldron DIPA</td>\n",
       "    </tr>\n",
       "    <tr>\n",
       "      <th>beer_abv</th>\n",
       "      <td>5.00</td>\n",
       "      <td>6.20</td>\n",
       "      <td>6.50</td>\n",
       "      <td>5.00</td>\n",
       "      <td>7.70</td>\n",
       "    </tr>\n",
       "    <tr>\n",
       "      <th>beer_beerid</th>\n",
       "      <td>47986</td>\n",
       "      <td>48213</td>\n",
       "      <td>48215</td>\n",
       "      <td>47969</td>\n",
       "      <td>64883</td>\n",
       "    </tr>\n",
       "  </tbody>\n",
       "</table>\n",
       "</div>"
      ],
      "text/plain": [
       "                                  0                   1  \\\n",
       "index                             0                   1   \n",
       "brewery_id                    10325               10325   \n",
       "brewery_name        Vecchio Birraio     Vecchio Birraio   \n",
       "review_time              1234817823          1235915097   \n",
       "review_overall                 1.50                3.00   \n",
       "review_aroma                   2.00                2.50   \n",
       "review_appearance              2.50                3.00   \n",
       "review_profilename          stcules             stcules   \n",
       "beer_style               Hefeweizen  English Strong Ale   \n",
       "review_palate                  1.50                3.00   \n",
       "review_taste                   1.50                3.00   \n",
       "beer_name              Sausa Weizen            Red Moon   \n",
       "beer_abv                       5.00                6.20   \n",
       "beer_beerid                   47986               48213   \n",
       "\n",
       "                                         2                3  \\\n",
       "index                                    2                3   \n",
       "brewery_id                           10325            10325   \n",
       "brewery_name               Vecchio Birraio  Vecchio Birraio   \n",
       "review_time                     1235916604       1234725145   \n",
       "review_overall                        3.00             3.00   \n",
       "review_aroma                          2.50             3.00   \n",
       "review_appearance                     3.00             3.50   \n",
       "review_profilename                 stcules          stcules   \n",
       "beer_style          Foreign / Export Stout  German Pilsener   \n",
       "review_palate                         3.00             2.50   \n",
       "review_taste                          3.00             3.00   \n",
       "beer_name           Black Horse Black Beer       Sausa Pils   \n",
       "beer_abv                              6.50             5.00   \n",
       "beer_beerid                          48215            47969   \n",
       "\n",
       "                                                 4  \n",
       "index                                            4  \n",
       "brewery_id                                    1075  \n",
       "brewery_name               Caldera Brewing Company  \n",
       "review_time                             1293735206  \n",
       "review_overall                                4.00  \n",
       "review_aroma                                  4.50  \n",
       "review_appearance                             4.00  \n",
       "review_profilename                  johnmichaelsen  \n",
       "beer_style          American Double / Imperial IPA  \n",
       "review_palate                                 4.00  \n",
       "review_taste                                  4.50  \n",
       "beer_name                            Cauldron DIPA  \n",
       "beer_abv                                      7.70  \n",
       "beer_beerid                                  64883  "
      ]
     },
     "execution_count": 3,
     "metadata": {},
     "output_type": "execute_result"
    }
   ],
   "source": [
    "df = pd.read_csv('beer_reviews.csv')\n",
    "df.head(5).transpose()"
   ]
  },
  {
   "attachments": {},
   "cell_type": "markdown",
   "metadata": {},
   "source": [
    "# Step 1: EDA"
   ]
  },
  {
   "attachments": {},
   "cell_type": "markdown",
   "metadata": {},
   "source": [
    "See `beer_eda.ipynb`\n",
    "\n",
    "Main takeaways:\n",
    "\n",
    "- Is there bias in the dataset?\n",
    "    - There are 5,840 breweries and 66,055 beers represented in this dataset. The top breweries are familiar but we were expecting to see Coors, Miller, Budlight etc... These breweries are in the dataset, just not reviewed as much. Good to know the dataset does have a slight bias towards craft beers. \n",
    "- How many reviews do beers typically get. Thinking forward about the recsys, we want to depend more on well rounded reviews, rather than a beer that has a great rating, but from only one review. This will help us decide where to cut off the outliers in our data before building the recsys.\n",
    "    - Looks like most beers dont get many reviews. The median is 2 and mean is 24.\n",
    "- Does the style of beer matter? Assumption is yes but lets try to prove this with eda. Are certain styles consistent? There are several styles that are very popular and some that are obscure.\n",
    "    - It seems some of the higher rated beer styles have a lot more reviews than the lower rated beer styles. This correlation is interesting. Although its not linear relationship so we decided to explore the variance within these features.\n",
    "        - Picking an imperial stout or ipa seems to generate more confidence on how 'good' it is if it were picked. If i pick one of these beers it will most likely be good.\n",
    "        - Old ale or Gueuze seem to have more variation. If i pick one of these beers, it might be really good or just ok. \n",
    "        - The bottom portions seems to have more variance  in the intervals themselves. The top beers ranged about .1 points were the bottom beers are ranging .2 to .3 points. If i pick one of these beers, Im not very sure if it will be any good, or worth drinking. "
   ]
  },
  {
   "attachments": {},
   "cell_type": "markdown",
   "metadata": {},
   "source": [
    "# Step 2: Data Cleaning & Prep"
   ]
  },
  {
   "attachments": {},
   "cell_type": "markdown",
   "metadata": {},
   "source": [
    "### 2.1 Cleanup - Most reviewers don’t review many beers and most beers don’t get reviewed many times. We like a sparse matrix, but we don’t gain a lot of information from reviewers that review one time or beers than are only reviewed one time. We need to only include reviewers and beers above some threshold."
   ]
  },
  {
   "cell_type": "code",
   "execution_count": 4,
   "metadata": {},
   "outputs": [
    {
     "data": {
      "image/png": "[encoded data removed]",
      "text/plain": [
       "<Figure size 800x600 with 1 Axes>"
      ]
     },
     "metadata": {},
     "output_type": "display_data"
    }
   ],
   "source": [
    "# Count the number of reviews per reviewer\n",
    "reviews_per_reviewer = (df\n",
    "                        .groupby('review_profilename')\n",
    "                        .size()\n",
    "                        .reset_index(name='n')\n",
    "                        .sort_values('n', ascending=False))\n",
    "\n",
    "# create plot\n",
    "plt.figure(figsize=(8, 6))\n",
    "sns.histplot(data=reviews_per_reviewer, x='n', color='purple', edgecolor='k', alpha=.8)\n",
    "plt.xscale('log')\n",
    "plt.xlabel('# of Reviews')\n",
    "plt.ylabel('# of Reviewers')\n",
    "plt.title('How many reviews are reviewers posting?')\n",
    "plt.show()"
   ]
  },
  {
   "cell_type": "code",
   "execution_count": 5,
   "metadata": {},
   "outputs": [],
   "source": [
    "# factorizing the beerId and userId for later\n",
    "df['review_profilename'] = pd.factorize(df['review_profilename'])[0] + 1\n",
    "df['beer_beerid'] = pd.factorize(df['beer_beerid'])[0] + 1"
   ]
  },
  {
   "cell_type": "code",
   "execution_count": 6,
   "metadata": {},
   "outputs": [],
   "source": [
    "# filter to reviewers who have reviewed above 50 beers and beers with greater than 100 reviews\n",
    "over_50 = df.groupby(['review_profilename']).filter(lambda x: len(x) >= 50)\n",
    "over_50 = over_50.groupby(['beer_beerid']).filter(lambda x: len(x) >= 100)"
   ]
  },
  {
   "attachments": {},
   "cell_type": "markdown",
   "metadata": {},
   "source": [
    "### 2.2 Pre-processing - We are going to use a technique called colaborative filtering to generate recommendations for users. This technique is based on the premise that similar people like similar things.\n",
    "\n",
    "The first step is to transform our data into a user-item matrix, also known as a “utility” matrix. In this matrix, rows represent users and columns represent movies. The beauty of collaborative filtering is that it doesn’t require any information about the users or the movies user to generate recommendations"
   ]
  },
  {
   "cell_type": "code",
   "execution_count": 7,
   "metadata": {},
   "outputs": [
    {
     "data": {
      "text/html": [
       "<div>\n",
       "<style scoped>\n",
       "    .dataframe tbody tr th:only-of-type {\n",
       "        vertical-align: middle;\n",
       "    }\n",
       "\n",
       "    .dataframe tbody tr th {\n",
       "        vertical-align: top;\n",
       "    }\n",
       "\n",
       "    .dataframe thead th {\n",
       "        text-align: right;\n",
       "    }\n",
       "</style>\n",
       "<table border=\"1\" class=\"dataframe\">\n",
       "  <thead>\n",
       "    <tr style=\"text-align: right;\">\n",
       "      <th></th>\n",
       "      <th>userId</th>\n",
       "      <th>beerId</th>\n",
       "      <th>rating</th>\n",
       "    </tr>\n",
       "  </thead>\n",
       "  <tbody>\n",
       "    <tr>\n",
       "      <th>count</th>\n",
       "      <td>948722.00</td>\n",
       "      <td>948722.00</td>\n",
       "      <td>948722.00</td>\n",
       "    </tr>\n",
       "    <tr>\n",
       "      <th>mean</th>\n",
       "      <td>2406.58</td>\n",
       "      <td>31539.14</td>\n",
       "      <td>3.86</td>\n",
       "    </tr>\n",
       "    <tr>\n",
       "      <th>std</th>\n",
       "      <td>2423.37</td>\n",
       "      <td>19223.88</td>\n",
       "      <td>0.68</td>\n",
       "    </tr>\n",
       "    <tr>\n",
       "      <th>min</th>\n",
       "      <td>0.00</td>\n",
       "      <td>7.00</td>\n",
       "      <td>1.00</td>\n",
       "    </tr>\n",
       "    <tr>\n",
       "      <th>25%</th>\n",
       "      <td>637.00</td>\n",
       "      <td>14417.00</td>\n",
       "      <td>3.50</td>\n",
       "    </tr>\n",
       "    <tr>\n",
       "      <th>50%</th>\n",
       "      <td>1604.00</td>\n",
       "      <td>30590.00</td>\n",
       "      <td>4.00</td>\n",
       "    </tr>\n",
       "    <tr>\n",
       "      <th>75%</th>\n",
       "      <td>3352.00</td>\n",
       "      <td>48290.00</td>\n",
       "      <td>4.50</td>\n",
       "    </tr>\n",
       "    <tr>\n",
       "      <th>max</th>\n",
       "      <td>19172.00</td>\n",
       "      <td>65906.00</td>\n",
       "      <td>5.00</td>\n",
       "    </tr>\n",
       "  </tbody>\n",
       "</table>\n",
       "</div>"
      ],
      "text/plain": [
       "         userId    beerId    rating\n",
       "count 948722.00 948722.00 948722.00\n",
       "mean    2406.58  31539.14      3.86\n",
       "std     2423.37  19223.88      0.68\n",
       "min        0.00      7.00      1.00\n",
       "25%      637.00  14417.00      3.50\n",
       "50%     1604.00  30590.00      4.00\n",
       "75%     3352.00  48290.00      4.50\n",
       "max    19172.00  65906.00      5.00"
      ]
     },
     "execution_count": 7,
     "metadata": {},
     "output_type": "execute_result"
    }
   ],
   "source": [
    "# new df with just username, beer id, and overall review\n",
    "x_df = over_50[['review_profilename', 'beer_beerid', 'review_overall']]\n",
    "\n",
    "# rename columns for easy use\n",
    "x_df.columns = ['userId', 'beerId', 'rating']\n",
    "\n",
    "x_df.describe()"
   ]
  },
  {
   "attachments": {},
   "cell_type": "markdown",
   "metadata": {},
   "source": [
    "The create_X() function outputs a sparse matrix X with four mapper dictionaries:\n",
    "\n",
    "    user_mapper: maps user id to user index\n",
    "    beer_mapper: maps movie id to movie index\n",
    "    user_inv_mapper: maps user index to user id\n",
    "    beer_inv_mapper: maps movie index to movie id\n",
    "\n",
    "We need these dictionaries because they map which row/column of the utility matrix corresponds to which user/beer id"
   ]
  },
  {
   "cell_type": "code",
   "execution_count": 8,
   "metadata": {},
   "outputs": [],
   "source": [
    "# https://www.jillcates.com/pydata-workshop/html/tutorial.html\n",
    "\n",
    "from scipy.sparse import csr_matrix\n",
    "\n",
    "def create_X(df):\n",
    "    \"\"\"\n",
    "    Generates a sparse matrix from ratings dataframe.\n",
    "\n",
    "    Args:\n",
    "        df: pandas dataframe containing 3 columns (userId, beerID, rating)\n",
    "\n",
    "    Returns:\n",
    "        X: sparse matrix\n",
    "        user_mapper: dict that maps user id's to user indices\n",
    "        user_inv_mapper: dict that maps user indices to user id's\n",
    "        beer_mapper: dict that maps movie id's to movie indices\n",
    "        beer_inv_mapper: dict that maps movie indices to movie id's\n",
    "    \"\"\"\n",
    "    M = df['userId'].nunique()\n",
    "    N = df['beerId'].nunique()\n",
    "\n",
    "    user_mapper = dict(zip(np.unique(df[\"userId\"]), list(range(M))))\n",
    "    beer_mapper = dict(zip(np.unique(df[\"beerId\"]), list(range(N))))\n",
    "\n",
    "    user_inv_mapper = dict(zip(list(range(M)), np.unique(df[\"userId\"])))\n",
    "    beer_inv_mapper = dict(zip(list(range(N)), np.unique(df[\"beerId\"])))\n",
    "\n",
    "    user_index = [user_mapper[i] for i in df['userId']]\n",
    "    item_index = [beer_mapper[i] for i in df['beerId']]\n",
    "\n",
    "    X = csr_matrix((df[\"rating\"], (user_index,item_index)), shape=(M,N))\n",
    "\n",
    "    return X, user_mapper, beer_mapper, user_inv_mapper, beer_inv_mapper\n",
    "\n",
    "X, user_mapper, beer_mapper, user_inv_mapper, beer_inv_mapper = create_X(x_df)"
   ]
  },
  {
   "cell_type": "code",
   "execution_count": 9,
   "metadata": {},
   "outputs": [
    {
     "name": "stdout",
     "output_type": "stream",
     "text": [
      "Matrix sparsity: 6.79%\n"
     ]
    }
   ],
   "source": [
    "# evaluating sparsity\n",
    "n_total = X.shape[0]*X.shape[1]\n",
    "n_ratings = X.nnz\n",
    "sparsity = n_ratings/n_total\n",
    "print(f\"Matrix sparsity: {round(sparsity*100,2)}%\")"
   ]
  },
  {
   "cell_type": "code",
   "execution_count": 10,
   "metadata": {},
   "outputs": [
    {
     "name": "stdout",
     "output_type": "stream",
     "text": [
      "Most active user rated 2266 beers.\n",
      "Least active user rated 4 beers.\n"
     ]
    }
   ],
   "source": [
    "n_ratings_per_user = X.getnnz(axis=1)\n",
    "\n",
    "print(f\"Most active user rated {n_ratings_per_user.max()} beers.\")\n",
    "print(f\"Least active user rated {n_ratings_per_user.min()} beers.\")"
   ]
  },
  {
   "cell_type": "code",
   "execution_count": 11,
   "metadata": {},
   "outputs": [
    {
     "name": "stdout",
     "output_type": "stream",
     "text": [
      "Most rated beer has 2314 ratings.\n",
      "Least rated beer has 96 ratings.\n"
     ]
    }
   ],
   "source": [
    "n_ratings_per_beer = X.getnnz(axis=0)\n",
    "\n",
    "print(f\"Most rated beer has {n_ratings_per_beer.max()} ratings.\")\n",
    "print(f\"Least rated beer has {n_ratings_per_beer.min()} ratings.\")"
   ]
  },
  {
   "cell_type": "code",
   "execution_count": 12,
   "metadata": {},
   "outputs": [
    {
     "name": "stderr",
     "output_type": "stream",
     "text": [
      "C:\\Users\\epwol\\AppData\\Local\\Temp\\ipykernel_14396\\917671282.py:3: FutureWarning: \n",
      "\n",
      "`shade` is now deprecated in favor of `fill`; setting `fill=True`.\n",
      "This will become an error in seaborn v0.14.0; please update your code.\n",
      "\n",
      "  sns.kdeplot(n_ratings_per_user, shade=True)\n",
      "C:\\Users\\epwol\\AppData\\Local\\Temp\\ipykernel_14396\\917671282.py:9: FutureWarning: \n",
      "\n",
      "`shade` is now deprecated in favor of `fill`; setting `fill=True`.\n",
      "This will become an error in seaborn v0.14.0; please update your code.\n",
      "\n",
      "  sns.kdeplot(n_ratings_per_beer, shade=True)\n"
     ]
    },
    {
     "data": {
      "image/png": "[encoded data removed]",
      "text/plain": [
       "<Figure size 1600x400 with 2 Axes>"
      ]
     },
     "metadata": {},
     "output_type": "display_data"
    }
   ],
   "source": [
    "plt.figure(figsize=(16,4))\n",
    "plt.subplot(1,2,1)\n",
    "sns.kdeplot(n_ratings_per_user, shade=True)\n",
    "plt.xlim(0)\n",
    "plt.title(\"Number of Ratings Per User\", fontsize=14)\n",
    "plt.xlabel(\"number of ratings per user\")\n",
    "plt.ylabel(\"density\")\n",
    "plt.subplot(1,2,2)\n",
    "sns.kdeplot(n_ratings_per_beer, shade=True)\n",
    "plt.xlim(0)\n",
    "plt.title(\"Number of Ratings Per Beer\", fontsize=14)\n",
    "plt.xlabel(\"number of ratings per beer\")\n",
    "plt.ylabel(\"density\")\n",
    "plt.show()"
   ]
  },
  {
   "attachments": {},
   "cell_type": "markdown",
   "metadata": {},
   "source": [
    "### 2.3 Normalize the Data"
   ]
  },
  {
   "attachments": {
    "image.png": {
     "image/png": "[encoded data removed]"
    }
   },
   "cell_type": "markdown",
   "metadata": {},
   "source": [
    "![image.png](attachment:image.png) \n",
    "\n",
    "We will perform mean normalization by subtracting b*i* from each beer's rating."
   ]
  },
  {
   "cell_type": "code",
   "execution_count": 13,
   "metadata": {},
   "outputs": [],
   "source": [
    "sum_ratings_per_beer = X.sum(axis=0)\n",
    "mean_rating_per_beer = sum_ratings_per_beer/n_ratings_per_beer"
   ]
  },
  {
   "attachments": {},
   "cell_type": "markdown",
   "metadata": {},
   "source": [
    "Now that we have the mean rating for each beer, we are going to subtract this from our utility matrix. In order to do this, we need to expand our 1D `mean_rating_per_beer` array into a matrix with the same shape as our utility matrix `(n_users, n_beers)`. Numpy’s `tile` method is useful for this task."
   ]
  },
  {
   "cell_type": "code",
   "execution_count": 14,
   "metadata": {},
   "outputs": [
    {
     "data": {
      "text/plain": [
       "(4787, 2883)"
      ]
     },
     "execution_count": 14,
     "metadata": {},
     "output_type": "execute_result"
    }
   ],
   "source": [
    "X_mean_beer = np.tile(mean_rating_per_beer, (X.shape[0],1))\n",
    "X_mean_beer.shape"
   ]
  },
  {
   "attachments": {},
   "cell_type": "markdown",
   "metadata": {},
   "source": [
    "`X_mean_beer` is a matrix of shape (n_users, n_beers) in which each column is populated with a given beer's mean rating.\n",
    "\n",
    "We can easily normalize our X matrix by subtracting `X_mean_beer` from original X"
   ]
  },
  {
   "cell_type": "code",
   "execution_count": 15,
   "metadata": {},
   "outputs": [
    {
     "name": "stdout",
     "output_type": "stream",
     "text": [
      "Original X: [[0. 0. 0. ... 0. 0. 0.]]\n",
      "Normalized X: [[-2.63979849 -3.99677419 -4.04782609 ... -4.08389262 -3.85344828\n",
      "  -4.04746835]]\n"
     ]
    }
   ],
   "source": [
    "X_norm = X - csr_matrix(X_mean_beer)\n",
    "print(\"Original X:\", X[0].todense())\n",
    "print(\"Normalized X:\", X_norm[0].todense())"
   ]
  },
  {
   "attachments": {},
   "cell_type": "markdown",
   "metadata": {},
   "source": [
    "As expected, `X_norm’s` values are different from `Xs`. Cells that are empty in the original matrix are now replaced with negative values representing the mean rating of a given beer"
   ]
  },
  {
   "cell_type": "markdown",
   "metadata": {},
   "source": []
  },
  {
   "attachments": {},
   "cell_type": "markdown",
   "metadata": {},
   "source": [
    "# Step 3: Item-item Recommendations with k-Nearest Neighbors\n",
    "We are going to find the k beers that have the most similar user engagement vectors for beer i."
   ]
  },
  {
   "cell_type": "code",
   "execution_count": 30,
   "metadata": {},
   "outputs": [],
   "source": [
    "# We are going to find the k beers that have the most similar user engagement vectors for beer i\n",
    "\n",
    "from sklearn.neighbors import NearestNeighbors\n",
    "\n",
    "def find_similar_beers(beerId, X, beer_mapper, beer_inv_mapper, k, metric='cosine'):\n",
    "    \"\"\"\n",
    "    Finds k-nearest neighbours for a given beer id.\n",
    "\n",
    "    Args:\n",
    "        movie_id: id of the beer of interest\n",
    "        X: user-item utility matrix\n",
    "        k: number of similar beer to retrieve\n",
    "        metric: distance metric for kNN calculations\n",
    "\n",
    "    Output: returns list of k similar beer ID's\n",
    "    \"\"\"\n",
    "    X = X.T\n",
    "    neighbour_ids = []\n",
    "\n",
    "    beer_ind = beer_mapper[beerId]\n",
    "    beer_vec = X[beer_ind]\n",
    "    if isinstance(beer_vec, (np.ndarray)):\n",
    "        beer_vec = beer_vec.reshape(1,-1)\n",
    "    # use k+1 since kNN output includes the beerID of interest\n",
    "    kNN = NearestNeighbors(n_neighbors=k+1, algorithm=\"brute\", metric=metric)\n",
    "    kNN.fit(X)\n",
    "    neighbour = kNN.kneighbors(beer_vec, return_distance=False)\n",
    "    for i in range(0,k):\n",
    "        n = neighbour.item(i)\n",
    "        neighbour_ids.append(beer_inv_mapper[n])\n",
    "    neighbour_ids.pop(0)\n",
    "    return neighbour_ids"
   ]
  },
  {
   "cell_type": "code",
   "execution_count": 17,
   "metadata": {},
   "outputs": [
    {
     "name": "stdout",
     "output_type": "stream",
     "text": [
      "Because you tried Amstel Light:\n",
      "Foster's Special Bitter\n",
      "Anheuser World Lager\n",
      "Molson Ice\n",
      "Molson Golden\n",
      "Milwaukee's Best Light\n",
      "Red Dog\n",
      "Keystone Ice\n",
      "Presidente\n",
      "Famosa (Gallo)\n"
     ]
    }
   ],
   "source": [
    "beer_names = dict(zip(df['beer_beerid'], df['beer_name']))\n",
    "\n",
    "beer_id = 7\n",
    "\n",
    "similar_beers = find_similar_beers(beer_id, X_norm, beer_mapper, beer_inv_mapper, metric='cosine', k=10)\n",
    "beer_name = beer_names[beer_id]\n",
    "\n",
    "print(f\"Because you tried {beer_name}:\")\n",
    "for i in similar_beers:\n",
    "    print(beer_names[i])"
   ]
  },
  {
   "attachments": {},
   "cell_type": "markdown",
   "metadata": {},
   "source": [
    "Note that these recommendations are based solely on user-item ratings. Beer features such as genres are not used in this approach. We also played around with the kNN distance metric and see what results you would get if you use “manhattan” or “euclidean” instead of “cosine”."
   ]
  },
  {
   "cell_type": "code",
   "execution_count": 18,
   "metadata": {},
   "outputs": [
    {
     "name": "stdout",
     "output_type": "stream",
     "text": [
      "Because you tried Amstel Light:\n",
      "Michelob Ultra Amber\n",
      "Heineken Premium Light Lager\n",
      "Miller Genuine Draft Light 64\n",
      "Colt 45 Malt Liquor\n",
      "O'Doul's\n",
      "Milwaukee's Best Light\n",
      "Hurricane High Gravity Lager\n",
      "Michelob Honey Lager\n",
      "Steel Reserve 211 (High Gravity)\n"
     ]
    }
   ],
   "source": [
    "similar_beers = find_similar_beers(beer_id, X_norm, beer_mapper, beer_inv_mapper, metric='manhattan', k=10)\n",
    "beer_name = beer_names[beer_id]\n",
    "\n",
    "print(f\"Because you tried {beer_name}:\")\n",
    "for i in similar_beers:\n",
    "    print(beer_names[i])"
   ]
  },
  {
   "cell_type": "code",
   "execution_count": 19,
   "metadata": {},
   "outputs": [
    {
     "name": "stdout",
     "output_type": "stream",
     "text": [
      "Because you tried Amstel Light:\n",
      "Red Dog\n",
      "Milwaukee's Best Light\n",
      "Famosa (Gallo)\n",
      "O'Doul's\n",
      "Milwaukee's Best Ice\n",
      "Michelob Honey Lager\n",
      "Keystone Ice\n",
      "Molson XXX\n",
      "Labatt Blue Light\n"
     ]
    }
   ],
   "source": [
    "similar_beers = find_similar_beers(beer_id, X_norm, beer_mapper, beer_inv_mapper, metric='euclidean', k=10)\n",
    "beer_name = beer_names[beer_id]\n",
    "\n",
    "print(f\"Because you tried {beer_name}:\")\n",
    "for i in similar_beers:\n",
    "    print(beer_names[i])"
   ]
  },
  {
   "attachments": {},
   "cell_type": "markdown",
   "metadata": {},
   "source": [
    "# Step 4: Cold Start Problem\n",
    "Collaborative filtering relies solely on user-item interactions within the utility matrix. The issue with this approach is that brand new users or items with no iteractions get excluded from the recommendation system. This is called the cold start problem. Content-based filtering is a way to handle this problem by generating recommendations based on user and item features\n"
   ]
  },
  {
   "cell_type": "code",
   "execution_count": 20,
   "metadata": {},
   "outputs": [
    {
     "name": "stdout",
     "output_type": "stream",
     "text": [
      "There are 66055 unique beers in our dataset.\n",
      "There are 104 unique beer styles in our dataset.\n"
     ]
    }
   ],
   "source": [
    "n_beers = df['beer_beerid'].nunique()\n",
    "print(f\"There are {n_beers} unique beers in our dataset.\")\n",
    "n_styles = df['beer_style'].nunique()\n",
    "print(f\"There are {n_styles} unique beer styles in our dataset.\")\n"
   ]
  },
  {
   "cell_type": "code",
   "execution_count": 21,
   "metadata": {},
   "outputs": [
    {
     "name": "stderr",
     "output_type": "stream",
     "text": [
      "C:\\Users\\epwol\\AppData\\Local\\Temp\\ipykernel_14396\\3132472177.py:2: SettingWithCopyWarning: \n",
      "A value is trying to be set on a copy of a slice from a DataFrame\n",
      "\n",
      "See the caveats in the documentation: https://pandas.pydata.org/pandas-docs/stable/user_guide/indexing.html#returning-a-view-versus-a-copy\n",
      "  beer_styles.drop_duplicates(inplace=True)\n"
     ]
    },
    {
     "data": {
      "text/html": [
       "<div>\n",
       "<style scoped>\n",
       "    .dataframe tbody tr th:only-of-type {\n",
       "        vertical-align: middle;\n",
       "    }\n",
       "\n",
       "    .dataframe tbody tr th {\n",
       "        vertical-align: top;\n",
       "    }\n",
       "\n",
       "    .dataframe thead th {\n",
       "        text-align: right;\n",
       "    }\n",
       "</style>\n",
       "<table border=\"1\" class=\"dataframe\">\n",
       "  <thead>\n",
       "    <tr style=\"text-align: right;\">\n",
       "      <th></th>\n",
       "      <th>beerId</th>\n",
       "      <th>beerStyle</th>\n",
       "      <th>beerName</th>\n",
       "    </tr>\n",
       "  </thead>\n",
       "  <tbody>\n",
       "    <tr>\n",
       "      <th>0</th>\n",
       "      <td>1</td>\n",
       "      <td>Hefeweizen</td>\n",
       "      <td>Sausa Weizen</td>\n",
       "    </tr>\n",
       "    <tr>\n",
       "      <th>1</th>\n",
       "      <td>2</td>\n",
       "      <td>English Strong Ale</td>\n",
       "      <td>Red Moon</td>\n",
       "    </tr>\n",
       "    <tr>\n",
       "      <th>2</th>\n",
       "      <td>3</td>\n",
       "      <td>Foreign / Export Stout</td>\n",
       "      <td>Black Horse Black Beer</td>\n",
       "    </tr>\n",
       "    <tr>\n",
       "      <th>3</th>\n",
       "      <td>4</td>\n",
       "      <td>German Pilsener</td>\n",
       "      <td>Sausa Pils</td>\n",
       "    </tr>\n",
       "    <tr>\n",
       "      <th>4</th>\n",
       "      <td>5</td>\n",
       "      <td>American Double / Imperial IPA</td>\n",
       "      <td>Cauldron DIPA</td>\n",
       "    </tr>\n",
       "    <tr>\n",
       "      <th>...</th>\n",
       "      <td>...</td>\n",
       "      <td>...</td>\n",
       "      <td>...</td>\n",
       "    </tr>\n",
       "    <tr>\n",
       "      <th>1586594</th>\n",
       "      <td>66051</td>\n",
       "      <td>American Porter</td>\n",
       "      <td>Highland Porter</td>\n",
       "    </tr>\n",
       "    <tr>\n",
       "      <th>1586595</th>\n",
       "      <td>66052</td>\n",
       "      <td>Hefeweizen</td>\n",
       "      <td>Baron Von Weizen</td>\n",
       "    </tr>\n",
       "    <tr>\n",
       "      <th>1586596</th>\n",
       "      <td>66053</td>\n",
       "      <td>Belgian Strong Pale Ale</td>\n",
       "      <td>Resolution #2</td>\n",
       "    </tr>\n",
       "    <tr>\n",
       "      <th>1586599</th>\n",
       "      <td>66054</td>\n",
       "      <td>American Double / Imperial IPA</td>\n",
       "      <td>Double IPA</td>\n",
       "    </tr>\n",
       "    <tr>\n",
       "      <th>1586600</th>\n",
       "      <td>66055</td>\n",
       "      <td>Pumpkin Ale</td>\n",
       "      <td>The Horseman's Ale</td>\n",
       "    </tr>\n",
       "  </tbody>\n",
       "</table>\n",
       "<p>66055 rows × 3 columns</p>\n",
       "</div>"
      ],
      "text/plain": [
       "         beerId                       beerStyle                beerName\n",
       "0             1                      Hefeweizen            Sausa Weizen\n",
       "1             2              English Strong Ale                Red Moon\n",
       "2             3          Foreign / Export Stout  Black Horse Black Beer\n",
       "3             4                 German Pilsener              Sausa Pils\n",
       "4             5  American Double / Imperial IPA           Cauldron DIPA\n",
       "...         ...                             ...                     ...\n",
       "1586594   66051                 American Porter         Highland Porter\n",
       "1586595   66052                      Hefeweizen        Baron Von Weizen\n",
       "1586596   66053         Belgian Strong Pale Ale           Resolution #2\n",
       "1586599   66054  American Double / Imperial IPA              Double IPA\n",
       "1586600   66055                     Pumpkin Ale      The Horseman's Ale\n",
       "\n",
       "[66055 rows x 3 columns]"
      ]
     },
     "execution_count": 21,
     "metadata": {},
     "output_type": "execute_result"
    }
   ],
   "source": [
    "beer_styles = df[['beer_beerid', 'beer_style', 'beer_name']]\n",
    "beer_styles.drop_duplicates(inplace=True)\n",
    "beer_styles.columns = ['beerId', 'beerStyle', 'beerName']\n",
    "beer_styles"
   ]
  },
  {
   "cell_type": "code",
   "execution_count": 32,
   "metadata": {},
   "outputs": [
    {
     "data": {
      "text/html": [
       "<div>\n",
       "<style scoped>\n",
       "    .dataframe tbody tr th:only-of-type {\n",
       "        vertical-align: middle;\n",
       "    }\n",
       "\n",
       "    .dataframe tbody tr th {\n",
       "        vertical-align: top;\n",
       "    }\n",
       "\n",
       "    .dataframe thead th {\n",
       "        text-align: right;\n",
       "    }\n",
       "</style>\n",
       "<table border=\"1\" class=\"dataframe\">\n",
       "  <thead>\n",
       "    <tr style=\"text-align: right;\">\n",
       "      <th></th>\n",
       "      <th>0</th>\n",
       "      <th>1</th>\n",
       "      <th>2</th>\n",
       "      <th>3</th>\n",
       "      <th>4</th>\n",
       "      <th>5</th>\n",
       "      <th>6</th>\n",
       "      <th>7</th>\n",
       "      <th>8</th>\n",
       "      <th>9</th>\n",
       "      <th>...</th>\n",
       "      <th>66045</th>\n",
       "      <th>66046</th>\n",
       "      <th>66047</th>\n",
       "      <th>66048</th>\n",
       "      <th>66049</th>\n",
       "      <th>66050</th>\n",
       "      <th>66051</th>\n",
       "      <th>66052</th>\n",
       "      <th>66053</th>\n",
       "      <th>66054</th>\n",
       "    </tr>\n",
       "  </thead>\n",
       "  <tbody>\n",
       "    <tr>\n",
       "      <th>beerStyle_Altbier</th>\n",
       "      <td>0</td>\n",
       "      <td>0</td>\n",
       "      <td>0</td>\n",
       "      <td>0</td>\n",
       "      <td>0</td>\n",
       "      <td>0</td>\n",
       "      <td>0</td>\n",
       "      <td>0</td>\n",
       "      <td>0</td>\n",
       "      <td>0</td>\n",
       "      <td>...</td>\n",
       "      <td>0</td>\n",
       "      <td>0</td>\n",
       "      <td>0</td>\n",
       "      <td>0</td>\n",
       "      <td>0</td>\n",
       "      <td>0</td>\n",
       "      <td>0</td>\n",
       "      <td>0</td>\n",
       "      <td>0</td>\n",
       "      <td>0</td>\n",
       "    </tr>\n",
       "    <tr>\n",
       "      <th>beerStyle_American Adjunct Lager</th>\n",
       "      <td>0</td>\n",
       "      <td>0</td>\n",
       "      <td>0</td>\n",
       "      <td>0</td>\n",
       "      <td>0</td>\n",
       "      <td>0</td>\n",
       "      <td>0</td>\n",
       "      <td>0</td>\n",
       "      <td>0</td>\n",
       "      <td>0</td>\n",
       "      <td>...</td>\n",
       "      <td>0</td>\n",
       "      <td>0</td>\n",
       "      <td>0</td>\n",
       "      <td>0</td>\n",
       "      <td>0</td>\n",
       "      <td>0</td>\n",
       "      <td>0</td>\n",
       "      <td>0</td>\n",
       "      <td>0</td>\n",
       "      <td>0</td>\n",
       "    </tr>\n",
       "    <tr>\n",
       "      <th>beerStyle_American Amber / Red Ale</th>\n",
       "      <td>0</td>\n",
       "      <td>0</td>\n",
       "      <td>0</td>\n",
       "      <td>0</td>\n",
       "      <td>0</td>\n",
       "      <td>0</td>\n",
       "      <td>0</td>\n",
       "      <td>0</td>\n",
       "      <td>0</td>\n",
       "      <td>0</td>\n",
       "      <td>...</td>\n",
       "      <td>0</td>\n",
       "      <td>0</td>\n",
       "      <td>0</td>\n",
       "      <td>0</td>\n",
       "      <td>0</td>\n",
       "      <td>0</td>\n",
       "      <td>0</td>\n",
       "      <td>0</td>\n",
       "      <td>0</td>\n",
       "      <td>0</td>\n",
       "    </tr>\n",
       "    <tr>\n",
       "      <th>beerStyle_American Amber / Red Lager</th>\n",
       "      <td>0</td>\n",
       "      <td>0</td>\n",
       "      <td>0</td>\n",
       "      <td>0</td>\n",
       "      <td>0</td>\n",
       "      <td>0</td>\n",
       "      <td>0</td>\n",
       "      <td>0</td>\n",
       "      <td>0</td>\n",
       "      <td>0</td>\n",
       "      <td>...</td>\n",
       "      <td>0</td>\n",
       "      <td>0</td>\n",
       "      <td>0</td>\n",
       "      <td>0</td>\n",
       "      <td>0</td>\n",
       "      <td>0</td>\n",
       "      <td>0</td>\n",
       "      <td>0</td>\n",
       "      <td>0</td>\n",
       "      <td>0</td>\n",
       "    </tr>\n",
       "    <tr>\n",
       "      <th>beerStyle_American Barleywine</th>\n",
       "      <td>0</td>\n",
       "      <td>0</td>\n",
       "      <td>0</td>\n",
       "      <td>0</td>\n",
       "      <td>0</td>\n",
       "      <td>0</td>\n",
       "      <td>0</td>\n",
       "      <td>0</td>\n",
       "      <td>0</td>\n",
       "      <td>0</td>\n",
       "      <td>...</td>\n",
       "      <td>0</td>\n",
       "      <td>0</td>\n",
       "      <td>0</td>\n",
       "      <td>0</td>\n",
       "      <td>0</td>\n",
       "      <td>0</td>\n",
       "      <td>0</td>\n",
       "      <td>0</td>\n",
       "      <td>0</td>\n",
       "      <td>0</td>\n",
       "    </tr>\n",
       "  </tbody>\n",
       "</table>\n",
       "<p>5 rows × 66055 columns</p>\n",
       "</div>"
      ],
      "text/plain": [
       "                                      0      1      2      3      4      \\\n",
       "beerStyle_Altbier                         0      0      0      0      0   \n",
       "beerStyle_American Adjunct Lager          0      0      0      0      0   \n",
       "beerStyle_American Amber / Red Ale        0      0      0      0      0   \n",
       "beerStyle_American Amber / Red Lager      0      0      0      0      0   \n",
       "beerStyle_American Barleywine             0      0      0      0      0   \n",
       "\n",
       "                                      5      6      7      8      9      ...  \\\n",
       "beerStyle_Altbier                         0      0      0      0      0  ...   \n",
       "beerStyle_American Adjunct Lager          0      0      0      0      0  ...   \n",
       "beerStyle_American Amber / Red Ale        0      0      0      0      0  ...   \n",
       "beerStyle_American Amber / Red Lager      0      0      0      0      0  ...   \n",
       "beerStyle_American Barleywine             0      0      0      0      0  ...   \n",
       "\n",
       "                                      66045  66046  66047  66048  66049  \\\n",
       "beerStyle_Altbier                         0      0      0      0      0   \n",
       "beerStyle_American Adjunct Lager          0      0      0      0      0   \n",
       "beerStyle_American Amber / Red Ale        0      0      0      0      0   \n",
       "beerStyle_American Amber / Red Lager      0      0      0      0      0   \n",
       "beerStyle_American Barleywine             0      0      0      0      0   \n",
       "\n",
       "                                      66050  66051  66052  66053  66054  \n",
       "beerStyle_Altbier                         0      0      0      0      0  \n",
       "beerStyle_American Adjunct Lager          0      0      0      0      0  \n",
       "beerStyle_American Amber / Red Ale        0      0      0      0      0  \n",
       "beerStyle_American Amber / Red Lager      0      0      0      0      0  \n",
       "beerStyle_American Barleywine             0      0      0      0      0  \n",
       "\n",
       "[5 rows x 66055 columns]"
      ]
     },
     "execution_count": 32,
     "metadata": {},
     "output_type": "execute_result"
    }
   ],
   "source": [
    "styles = beer_styles.drop(columns=['beerId', 'beerName'])\n",
    "styles = pd.get_dummies(styles).reset_index()\n",
    "styles = styles.drop(columns=['index'])\n",
    "styles.transpose().head()"
   ]
  },
  {
   "cell_type": "code",
   "execution_count": 23,
   "metadata": {},
   "outputs": [
    {
     "name": "stdout",
     "output_type": "stream",
     "text": [
      "Dimensions of our styles cosine similarity matrix: (66055, 66055)\n"
     ]
    }
   ],
   "source": [
    "from sklearn.metrics.pairwise import cosine_similarity\n",
    "\n",
    "cosine_sim = cosine_similarity(styles, styles)\n",
    "print(f\"Dimensions of our styles cosine similarity matrix: {cosine_sim.shape}\")"
   ]
  },
  {
   "cell_type": "code",
   "execution_count": 24,
   "metadata": {},
   "outputs": [],
   "source": [
    "def beer_finder(style):\n",
    "    return beer_styles[beer_styles['beerStyle'].str.contains(style)]['beerStyle'].tolist()\n",
    "\n",
    "def get_similar_by_style(beer_style):\n",
    "    beer_idx = dict(zip(beer_styles['beerStyle'], list(styles.index)))\n",
    "    style = beer_finder(beer_style)[0]\n",
    "    n_recommendations = 10\n",
    "\n",
    "    idx = beer_idx[style]\n",
    "    sim_scores = list(enumerate(cosine_sim[idx]))\n",
    "    sim_scores = sorted(sim_scores, key=lambda x: x[1], reverse=True)\n",
    "    sim_scores = sim_scores[1:(n_recommendations+1)]\n",
    "    similar_beers = [i[0] for i in sim_scores]\n",
    "\n",
    "    print(f\"Recommendations for {style}:\")\n",
    "    return beer_styles['beerName'].iloc[similar_beers]"
   ]
  },
  {
   "cell_type": "code",
   "execution_count": 25,
   "metadata": {},
   "outputs": [
    {
     "name": "stdout",
     "output_type": "stream",
     "text": [
      "Recommendations for American Porter:\n"
     ]
    },
    {
     "data": {
      "text/plain": [
       "403                The Captain's Porter\n",
       "725                      Coconut Porter\n",
       "899                               Mogli\n",
       "934                         Orca Porter\n",
       "1538                       Viven Porter\n",
       "1656                       Monon Porter\n",
       "1677    Jack Daniels Barrel Aged Porter\n",
       "1703                             Porter\n",
       "1758                       Bjava Porter\n",
       "1974         Little Chocolate Doughnuts\n",
       "Name: beerName, dtype: object"
      ]
     },
     "execution_count": 25,
     "metadata": {},
     "output_type": "execute_result"
    }
   ],
   "source": [
    "get_similar_by_style('American Porter')"
   ]
  },
  {
   "cell_type": "code",
   "execution_count": 26,
   "metadata": {},
   "outputs": [
    {
     "name": "stdout",
     "output_type": "stream",
     "text": [
      "Recommendations for American Double / Imperial IPA:\n"
     ]
    },
    {
     "data": {
      "text/plain": [
       "918                        Holiday Imperial\n",
       "1284                  Ballz Deep Double IPA\n",
       "1695                    Hopcicle Double IPA\n",
       "1858                    Oatboy Imperial IPA\n",
       "1981                     Viven Imperial IPA\n",
       "2217    Professor Gesser's Mind Numbing Ale\n",
       "2361                           NoDa Rye Z'd\n",
       "2419                       Hoppocratic Oath\n",
       "2537                    Hopturnal Emissions\n",
       "2565                        Pike Double IPA\n",
       "Name: beerName, dtype: object"
      ]
     },
     "execution_count": 26,
     "metadata": {},
     "output_type": "execute_result"
    }
   ],
   "source": [
    "get_similar_by_style('IPA')"
   ]
  },
  {
   "cell_type": "markdown",
   "metadata": {},
   "source": []
  },
  {
   "attachments": {},
   "cell_type": "markdown",
   "metadata": {},
   "source": [
    "With this approach, we are assuming that two beers are “similar” if they have similar beer styles. These “similar beer recommendations are based solely on the metadata from our dataset. "
   ]
  },
  {
   "attachments": {},
   "cell_type": "markdown",
   "metadata": {},
   "source": [
    "# Step 5: Dimensionality Reduction with Matrix Factorization\n",
    " Matrix factorization (MF) is a linear algebra technique that can help us discover latent features underlying the interactions between users and items. These latent features give a more compact representation of user tastes and item descriptions. MF is particularly useful for very sparse data and can enhance the quality of recommendations. The algorithm works by factorizing the original user-item matrix into two factor matrices:\n",
    "\n",
    "    user-factor matrix (n_users, k)\n",
    "    item-factor matrix (k, n_items)\n",
    "\n",
    "We are reducing the dimensions of our original matrix into “taste” dimensions. We cannot interpret what each latent feature k represents. However, we could imagine that one latent feature may represent users who like hoppy beers, while another latent feature may represent beers that have some unique aroma or color. \n"
   ]
  },
  {
   "cell_type": "code",
   "execution_count": 27,
   "metadata": {},
   "outputs": [
    {
     "name": "stdout",
     "output_type": "stream",
     "text": [
      "Because you tried Amstel Light:\n",
      "Michelob Ultra\n",
      "Rolling Rock Extra Pale\n",
      "Dos Equis Amber Lager\n",
      "Michelob Amber Bock\n",
      "Harp Lager\n",
      "Foster's Lager\n",
      "Michelob (Original Lager)\n",
      "Peroni Nastro Azzurro\n",
      "St. Pauli Girl\n"
     ]
    }
   ],
   "source": [
    "from sklearn.decomposition import TruncatedSVD\n",
    "\n",
    "svd = TruncatedSVD(n_components=20, n_iter=10)\n",
    "Z = svd.fit_transform(X.T)\n",
    "\n",
    "beer_id = 7\n",
    "sim_beers = find_similar_beers(beer_id, Z.T, beer_mapper, beer_inv_mapper, metric='cosine', k=10)\n",
    "beer_name = beer_names[beer_id]\n",
    "\n",
    "print(f\"Because you tried {beer_name}:\")\n",
    "for i in sim_beers:\n",
    "    print(beer_names[i])"
   ]
  },
  {
   "attachments": {},
   "cell_type": "markdown",
   "metadata": {},
   "source": [
    "The results above are the most similar beers to Amstel Light using kNN on our “compressed” beer-factor matrix. We reduced the dimensions down to n_components=20. We can think of each component representing a latent feature such as beer style!\n",
    "\n",
    "With matrix factorization, we can also predict missing ratings in our original user-item matrix. We can do this by reconstructing our matrix by getting the inner product of our user-factor matrix and beer-factor matrix. We can use the inverse_transform on our beer-factor matrix Z to get our reconstructed user-item matrix."
   ]
  },
  {
   "cell_type": "code",
   "execution_count": 28,
   "metadata": {},
   "outputs": [
    {
     "data": {
      "text/html": [
       "<div>\n",
       "<style scoped>\n",
       "    .dataframe tbody tr th:only-of-type {\n",
       "        vertical-align: middle;\n",
       "    }\n",
       "\n",
       "    .dataframe tbody tr th {\n",
       "        vertical-align: top;\n",
       "    }\n",
       "\n",
       "    .dataframe thead th {\n",
       "        text-align: right;\n",
       "    }\n",
       "</style>\n",
       "<table border=\"1\" class=\"dataframe\">\n",
       "  <thead>\n",
       "    <tr style=\"text-align: right;\">\n",
       "      <th></th>\n",
       "      <th>userId</th>\n",
       "      <th>beerId</th>\n",
       "      <th>beerName</th>\n",
       "      <th>rating</th>\n",
       "    </tr>\n",
       "  </thead>\n",
       "  <tbody>\n",
       "    <tr>\n",
       "      <th>484274</th>\n",
       "      <td>100</td>\n",
       "      <td>19145</td>\n",
       "      <td>Cantillon Blåbær Lambik</td>\n",
       "      <td>5.00</td>\n",
       "    </tr>\n",
       "    <tr>\n",
       "      <th>1445019</th>\n",
       "      <td>100</td>\n",
       "      <td>60575</td>\n",
       "      <td>Mirror Pond Pale Ale</td>\n",
       "      <td>5.00</td>\n",
       "    </tr>\n",
       "    <tr>\n",
       "      <th>453671</th>\n",
       "      <td>100</td>\n",
       "      <td>17907</td>\n",
       "      <td>Unplugged Bohemian Lager</td>\n",
       "      <td>5.00</td>\n",
       "    </tr>\n",
       "    <tr>\n",
       "      <th>718083</th>\n",
       "      <td>100</td>\n",
       "      <td>27425</td>\n",
       "      <td>Trumer Pils</td>\n",
       "      <td>5.00</td>\n",
       "    </tr>\n",
       "    <tr>\n",
       "      <th>1134796</th>\n",
       "      <td>100</td>\n",
       "      <td>47061</td>\n",
       "      <td>Pliny The Elder</td>\n",
       "      <td>5.00</td>\n",
       "    </tr>\n",
       "    <tr>\n",
       "      <th>577259</th>\n",
       "      <td>100</td>\n",
       "      <td>22301</td>\n",
       "      <td>Velvet Merlin (Merkin)</td>\n",
       "      <td>5.00</td>\n",
       "    </tr>\n",
       "    <tr>\n",
       "      <th>1133425</th>\n",
       "      <td>100</td>\n",
       "      <td>47061</td>\n",
       "      <td>Pliny The Elder</td>\n",
       "      <td>5.00</td>\n",
       "    </tr>\n",
       "    <tr>\n",
       "      <th>1443623</th>\n",
       "      <td>100</td>\n",
       "      <td>60629</td>\n",
       "      <td>Jubelale</td>\n",
       "      <td>5.00</td>\n",
       "    </tr>\n",
       "    <tr>\n",
       "      <th>1323979</th>\n",
       "      <td>100</td>\n",
       "      <td>53089</td>\n",
       "      <td>Anchor Steam Beer</td>\n",
       "      <td>5.00</td>\n",
       "    </tr>\n",
       "    <tr>\n",
       "      <th>1167963</th>\n",
       "      <td>100</td>\n",
       "      <td>48285</td>\n",
       "      <td>Festina Pêche</td>\n",
       "      <td>5.00</td>\n",
       "    </tr>\n",
       "  </tbody>\n",
       "</table>\n",
       "</div>"
      ],
      "text/plain": [
       "         userId  beerId                  beerName  rating\n",
       "484274      100   19145   Cantillon Blåbær Lambik    5.00\n",
       "1445019     100   60575      Mirror Pond Pale Ale    5.00\n",
       "453671      100   17907  Unplugged Bohemian Lager    5.00\n",
       "718083      100   27425               Trumer Pils    5.00\n",
       "1134796     100   47061           Pliny The Elder    5.00\n",
       "577259      100   22301    Velvet Merlin (Merkin)    5.00\n",
       "1133425     100   47061           Pliny The Elder    5.00\n",
       "1443623     100   60629                  Jubelale    5.00\n",
       "1323979     100   53089         Anchor Steam Beer    5.00\n",
       "1167963     100   48285             Festina Pêche    5.00"
      ]
     },
     "execution_count": 28,
     "metadata": {},
     "output_type": "execute_result"
    }
   ],
   "source": [
    "new_X = svd.inverse_transform(Z).T\n",
    "\n",
    "#Let’s look at userId=100’s recommendations. In the table below, we can see which beers that have been rated highly\n",
    "userId = 100\n",
    "\n",
    "# new df with just username, beer id, and overall review\n",
    "z_df = over_50[['review_profilename', 'beer_beerid', 'beer_name', 'review_overall']]\n",
    "\n",
    "# rename columns for easy use\n",
    "z_df.columns = ['userId', 'beerId', 'beerName', 'rating']\n",
    "\n",
    "user_preferences = z_df[(z_df['userId']==userId)&(z_df['rating']>=4)]\n",
    "user_preferences.sort_values('rating', ascending=False).head(10)"
   ]
  },
  {
   "attachments": {},
   "cell_type": "markdown",
   "metadata": {},
   "source": [
    "Now, let’s take a look at which beers we predict userId=100 will like based on their previous ratings. We will need get the row which represents userId=100 and sort their predicted ratings in descending order. np.argsort() is a useful method for getting the top N indices (i.e., beers with highest rating predictions) for userId=100."
   ]
  },
  {
   "cell_type": "code",
   "execution_count": 29,
   "metadata": {},
   "outputs": [
    {
     "name": "stdout",
     "output_type": "stream",
     "text": [
      "Top 10 Recommendations for UserId 100:\n",
      "Supplication\n",
      "Temptation\n",
      "Pliny The Elder\n",
      "Weihenstephaner Hefeweissbier\n",
      "Consecration\n",
      "Blind Pig IPA\n",
      "The Abyss\n",
      "Sculpin India Pale Ale\n",
      "Pliny The Younger\n",
      "Sanctification\n"
     ]
    }
   ],
   "source": [
    "top_N = 10\n",
    "\n",
    "top_N_indices = new_X[user_mapper[userId]].argsort()[-top_N:][::-1]\n",
    "\n",
    "print(f\"Top {top_N} Recommendations for UserId {userId}:\")\n",
    "for i in top_N_indices:\n",
    "    beer_id = beer_inv_mapper[i]\n",
    "    print(beer_names[beer_id])"
   ]
  },
  {
   "attachments": {},
   "cell_type": "markdown",
   "metadata": {},
   "source": [
    "# Evaluation\n",
    "\n",
    "How do we know if our recommendations are good? The best way would be to get direct feedback from users - however that isnt really applicable here. \n",
    "\n",
    "Here we generate our training set by masking random interactions in our user-item matrix. In other words, we pretend that we don’t if a user liked or hated beer X, but we actually do. Once we train our model and generate our rating predictions, we can then compare our predicted rating with the actual rating..."
   ]
  }
 ],
 "metadata": {
  "kernelspec": {
   "display_name": "Python 3",
   "language": "python",
   "name": "python3"
  },
  "language_info": {
   "codemirror_mode": {
    "name": "ipython",
    "version": 3
   },
   "file_extension": ".py",
   "mimetype": "text/x-python",
   "name": "python",
   "nbconvert_exporter": "python",
   "pygments_lexer": "ipython3",
   "version": "3.11.0"
  },
  "orig_nbformat": 4
 },
 "nbformat": 4,
 "nbformat_minor": 2
}
